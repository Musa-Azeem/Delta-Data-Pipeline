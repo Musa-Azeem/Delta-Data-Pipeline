{
 "cells": [
  {
   "cell_type": "code",
   "execution_count": 12,
   "metadata": {},
   "outputs": [],
   "source": [
    "import pandas as pd\n",
    "import matplotlib.pyplot as plt\n",
    "import plotly.express as px\n",
    "import numpy as np\n",
    "from datetime import timedelta"
   ]
  },
  {
   "cell_type": "code",
   "execution_count": 14,
   "metadata": {},
   "outputs": [],
   "source": [
    "dir = \"data/2023-07-11_00_34_47\"\n",
    "logs = pd.read_csv(f'{dir}/Log.txt')\n",
    "data = pd.read_csv(f'{dir}/acc.csv')"
   ]
  },
  {
   "cell_type": "code",
   "execution_count": 15,
   "metadata": {},
   "outputs": [],
   "source": [
    "events = dict(CheckingForMotion=0, NoMotionDetected=1, MotionDetected=2)\n",
    "logs['status'] = [events[event] for event in logs['event'].values]\n",
    "logs['real_time_minutes'] = (logs['real_time_ms'] - logs['real_time_ms'][0])/60000"
   ]
  },
  {
   "cell_type": "code",
   "execution_count": 16,
   "metadata": {},
   "outputs": [
    {
     "name": "stderr",
     "output_type": "stream",
     "text": [
      "Gtk-Message: 17:29:42.926: Failed to load module \"xapp-gtk3-module\"\n",
      "Gtk-Message: 17:29:42.926: Failed to load module \"appmenu-gtk-module\"\n"
     ]
    },
    {
     "name": "stdout",
     "output_type": "stream",
     "text": [
      "Opening in existing browser session.\n"
     ]
    },
    {
     "name": "stderr",
     "output_type": "stream",
     "text": [
      "libva error: vaGetDriverNameByIndex() failed with unknown libva error, driver_name = (null)\n"
     ]
    }
   ],
   "source": [
    "fig = px.line(logs, x='real_time_minutes', y='status')\n",
    "fig.show(renderer='browser')"
   ]
  },
  {
   "cell_type": "code",
   "execution_count": 15,
   "metadata": {},
   "outputs": [
    {
     "name": "stdout",
     "output_type": "stream",
     "text": [
      "Opening in existing browser session.\n"
     ]
    },
    {
     "name": "stderr",
     "output_type": "stream",
     "text": [
      "Gtk-Message: 10:26:42.828: Failed to load module \"xapp-gtk3-module\"\n",
      "Gtk-Message: 10:26:42.828: Failed to load module \"appmenu-gtk-module\"\n"
     ]
    }
   ],
   "source": [
    "# color_dict = {\n",
    "#     'OnCreate()': 'red',\n",
    "#     'OnStart()':  'orange',\n",
    "#     'OnResume()': 'yellow',\n",
    "#     'onPause()':  'green',\n",
    "#     'OnStop()':   'blue',\n",
    "#     'onDestroy()':'indigo',\n",
    "#     'onRestart()':'violet',\n",
    "#     'Triggered':  'black',\n",
    "#     'Acc start': 'brown'\n",
    "# }\n",
    "# fig = px.scatter(data[::10], x='real_time_ms', y=data.columns[1])\n",
    "\n",
    "# for i,log in enumerate(logs['real_time_ms']):\n",
    "#     line_color = color_dict[str(logs.iloc[i]['event'])]\n",
    "#     fig.add_vline(x=log, line_width=1, line_dash=\"solid\", line_color=line_color)\n",
    "\n",
    "# # fig.add_scatter(logs, x='real_time_ms', y=data.columns[1])\n",
    "# fig.show(renderer='browser')"
   ]
  }
 ],
 "metadata": {
  "kernelspec": {
   "display_name": "Python 3.10.6 64-bit",
   "language": "python",
   "name": "python3"
  },
  "language_info": {
   "codemirror_mode": {
    "name": "ipython",
    "version": 3
   },
   "file_extension": ".py",
   "mimetype": "text/x-python",
   "name": "python",
   "nbconvert_exporter": "python",
   "pygments_lexer": "ipython3",
   "version": "3.10.6"
  },
  "orig_nbformat": 4,
  "vscode": {
   "interpreter": {
    "hash": "916dbcbb3f70747c44a77c7bcd40155683ae19c65e1c03b4aa3499c5328201f1"
   }
  }
 },
 "nbformat": 4,
 "nbformat_minor": 2
}
