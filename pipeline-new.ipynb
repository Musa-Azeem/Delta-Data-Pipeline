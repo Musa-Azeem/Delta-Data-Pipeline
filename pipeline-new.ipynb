{
 "cells": [
  {
   "cell_type": "code",
   "execution_count": null,
   "metadata": {},
   "outputs": [],
   "source": [
    "import pandas as pd\n",
    "import matplotlib.pyplot as plt\n",
    "import plotly.express as px\n",
    "import numpy as np\n",
    "from datetime import timedelta"
   ]
  },
  {
   "cell_type": "code",
   "execution_count": null,
   "metadata": {},
   "outputs": [],
   "source": [
    "dir = \"data/2023-03-06_14_30_46\"\n",
    "logs = pd.read_csv(f'{dir}/Log.txt')\n",
    "data = pd.read_csv(f'{dir}/data.txt')"
   ]
  },
  {
   "cell_type": "code",
   "execution_count": null,
   "metadata": {},
   "outputs": [],
   "source": [
    "logs['real_time_ms'] -= logs['real_time_ms'][0]\n",
    "data['real_time_ms'] -= data['real_time_ms'][0]"
   ]
  },
  {
   "cell_type": "code",
   "execution_count": null,
   "metadata": {},
   "outputs": [],
   "source": [
    "color_dict = {\n",
    "    'OnCreate()': 'red',\n",
    "    'OnStart()':  'orange',\n",
    "    'OnResume()': 'yellow',\n",
    "    'onPause()':  'green',\n",
    "    'OnStop()':   'blue',\n",
    "    'onDestroy()':'indigo',\n",
    "    'onRestart()':'violet',\n",
    "    'Triggered':  'black',\n",
    "    'Acc start': 'brown'\n",
    "}\n",
    "fig = px.scatter(data[::10], x='real_time_ms', y=data.columns[1])\n",
    "\n",
    "for i,log in enumerate(logs['real_time_ms']):\n",
    "    line_color = color_dict[str(logs.iloc[i]['event'])]\n",
    "    fig.add_vline(x=log, line_width=1, line_dash=\"solid\", line_color=line_color)\n",
    "\n",
    "# fig.add_scatter(logs, x='real_time_ms', y=data.columns[1])\n",
    "fig.show(renderer='browser')"
   ]
  }
 ],
 "metadata": {
  "kernelspec": {
   "display_name": "Python 3.10.6 64-bit",
   "language": "python",
   "name": "python3"
  },
  "language_info": {
   "codemirror_mode": {
    "name": "ipython",
    "version": 3
   },
   "file_extension": ".py",
   "mimetype": "text/x-python",
   "name": "python",
   "nbconvert_exporter": "python",
   "pygments_lexer": "ipython3",
   "version": "3.10.6"
  },
  "orig_nbformat": 4,
  "vscode": {
   "interpreter": {
    "hash": "916dbcbb3f70747c44a77c7bcd40155683ae19c65e1c03b4aa3499c5328201f1"
   }
  }
 },
 "nbformat": 4,
 "nbformat_minor": 2
}
