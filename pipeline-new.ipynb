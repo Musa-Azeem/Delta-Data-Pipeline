{
 "cells": [
  {
   "cell_type": "code",
   "execution_count": 1,
   "metadata": {},
   "outputs": [],
   "source": [
    "import pandas as pd\n",
    "import matplotlib.pyplot as plt\n",
    "import plotly.express as px\n",
    "import numpy as np\n",
    "from datetime import timedelta"
   ]
  },
  {
   "cell_type": "code",
   "execution_count": 6,
   "metadata": {},
   "outputs": [],
   "source": [
    "dir = \"data/2023-06-13_13_05_07\"\n",
    "logs = pd.read_csv(f'{dir}/Log.txt')\n",
    "data = pd.read_csv(f'{dir}/data.txt')"
   ]
  },
  {
   "cell_type": "code",
   "execution_count": 7,
   "metadata": {},
   "outputs": [
    {
     "ename": "IndexError",
     "evalue": "index 0 is out of bounds for axis 0 with size 0",
     "output_type": "error",
     "traceback": [
      "\u001b[0;31m---------------------------------------------------------------------------\u001b[0m",
      "\u001b[0;31mIndexError\u001b[0m                                Traceback (most recent call last)",
      "Cell \u001b[0;32mIn[7], line 2\u001b[0m\n\u001b[1;32m      1\u001b[0m logs[\u001b[39m'\u001b[39m\u001b[39mreal_time_ms\u001b[39m\u001b[39m'\u001b[39m] \u001b[39m=\u001b[39m (logs[\u001b[39m'\u001b[39m\u001b[39mreal_time_ms\u001b[39m\u001b[39m'\u001b[39m] \u001b[39m-\u001b[39m logs[\u001b[39m'\u001b[39m\u001b[39mreal_time_ms\u001b[39m\u001b[39m'\u001b[39m][\u001b[39m0\u001b[39m])\u001b[39m/\u001b[39m\u001b[39m60000\u001b[39m\n\u001b[0;32m----> 2\u001b[0m data[\u001b[39m'\u001b[39m\u001b[39mreal_time_ms\u001b[39m\u001b[39m'\u001b[39m] \u001b[39m=\u001b[39m (data[\u001b[39m'\u001b[39m\u001b[39mreal_time_ms\u001b[39m\u001b[39m'\u001b[39m] \u001b[39m-\u001b[39m data[\u001b[39m'\u001b[39;49m\u001b[39mreal_time_ms\u001b[39;49m\u001b[39m'\u001b[39;49m][\u001b[39m0\u001b[39;49m])\u001b[39m/\u001b[39m\u001b[39m60000\u001b[39m\n",
      "File \u001b[0;32m~/.local/lib/python3.10/site-packages/pandas/core/series.py:978\u001b[0m, in \u001b[0;36mSeries.__getitem__\u001b[0;34m(self, key)\u001b[0m\n\u001b[1;32m    975\u001b[0m     key \u001b[39m=\u001b[39m unpack_1tuple(key)\n\u001b[1;32m    977\u001b[0m \u001b[39mif\u001b[39;00m is_integer(key) \u001b[39mand\u001b[39;00m \u001b[39mself\u001b[39m\u001b[39m.\u001b[39mindex\u001b[39m.\u001b[39m_should_fallback_to_positional:\n\u001b[0;32m--> 978\u001b[0m     \u001b[39mreturn\u001b[39;00m \u001b[39mself\u001b[39;49m\u001b[39m.\u001b[39;49m_values[key]\n\u001b[1;32m    980\u001b[0m \u001b[39melif\u001b[39;00m key_is_scalar:\n\u001b[1;32m    981\u001b[0m     \u001b[39mreturn\u001b[39;00m \u001b[39mself\u001b[39m\u001b[39m.\u001b[39m_get_value(key)\n",
      "\u001b[0;31mIndexError\u001b[0m: index 0 is out of bounds for axis 0 with size 0"
     ]
    }
   ],
   "source": [
    "logs['real_time_ms'] = (logs['real_time_ms'] - logs['real_time_ms'][0])/60000\n",
    "data['real_time_ms'] = (data['real_time_ms'] - data['real_time_ms'][0])/60000"
   ]
  },
  {
   "cell_type": "code",
   "execution_count": 15,
   "metadata": {},
   "outputs": [
    {
     "name": "stdout",
     "output_type": "stream",
     "text": [
      "Opening in existing browser session.\n"
     ]
    },
    {
     "name": "stderr",
     "output_type": "stream",
     "text": [
      "Gtk-Message: 10:26:42.828: Failed to load module \"xapp-gtk3-module\"\n",
      "Gtk-Message: 10:26:42.828: Failed to load module \"appmenu-gtk-module\"\n"
     ]
    }
   ],
   "source": [
    "color_dict = {\n",
    "    'OnCreate()': 'red',\n",
    "    'OnStart()':  'orange',\n",
    "    'OnResume()': 'yellow',\n",
    "    'onPause()':  'green',\n",
    "    'OnStop()':   'blue',\n",
    "    'onDestroy()':'indigo',\n",
    "    'onRestart()':'violet',\n",
    "    'Triggered':  'black',\n",
    "    'Acc start': 'brown'\n",
    "}\n",
    "fig = px.scatter(data[::10], x='real_time_ms', y=data.columns[1])\n",
    "\n",
    "for i,log in enumerate(logs['real_time_ms']):\n",
    "    line_color = color_dict[str(logs.iloc[i]['event'])]\n",
    "    fig.add_vline(x=log, line_width=1, line_dash=\"solid\", line_color=line_color)\n",
    "\n",
    "# fig.add_scatter(logs, x='real_time_ms', y=data.columns[1])\n",
    "fig.show(renderer='browser')"
   ]
  },
  {
   "cell_type": "code",
   "execution_count": null,
   "metadata": {},
   "outputs": [],
   "source": []
  }
 ],
 "metadata": {
  "kernelspec": {
   "display_name": "Python 3.10.6 64-bit",
   "language": "python",
   "name": "python3"
  },
  "language_info": {
   "codemirror_mode": {
    "name": "ipython",
    "version": 3
   },
   "file_extension": ".py",
   "mimetype": "text/x-python",
   "name": "python",
   "nbconvert_exporter": "python",
   "pygments_lexer": "ipython3",
   "version": "3.10.6"
  },
  "orig_nbformat": 4,
  "vscode": {
   "interpreter": {
    "hash": "916dbcbb3f70747c44a77c7bcd40155683ae19c65e1c03b4aa3499c5328201f1"
   }
  }
 },
 "nbformat": 4,
 "nbformat_minor": 2
}
